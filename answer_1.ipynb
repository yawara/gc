{
 "cells": [
  {
   "cell_type": "code",
   "execution_count": 2,
   "metadata": {
    "collapsed": true
   },
   "outputs": [],
   "source": [
    "import numpy as np\n",
    "from math import sqrt"
   ]
  },
  {
   "cell_type": "code",
   "execution_count": 3,
   "metadata": {
    "collapsed": false
   },
   "outputs": [
    {
     "name": "stdout",
     "output_type": "stream",
     "text": [
      "u * v = 25\n",
      "cos = 0.5\n"
     ]
    }
   ],
   "source": [
    "u = np.array([-1,0,7])\n",
    "v = np.array([-4,5,3])\n",
    "print(\"u * v =\", u.dot(v))\n",
    "print(\"cos =\", u.dot(v)/sqrt(u.dot(u)*v.dot(v)))"
   ]
  },
  {
   "cell_type": "code",
   "execution_count": 5,
   "metadata": {
    "collapsed": false
   },
   "outputs": [
    {
     "name": "stdout",
     "output_type": "stream",
     "text": [
      "u * v = -3\n",
      "cos = -0.707106781187\n",
      "-0.7071067811865475\n"
     ]
    }
   ],
   "source": [
    "u = np.array([-1,1,0])\n",
    "v = np.array([1,-2,2])\n",
    "print(\"u * v =\", u.dot(v))\n",
    "print(\"cos =\", u.dot(v)/sqrt(u.dot(u)*v.dot(v)))\n",
    "print(-1/sqrt(2))"
   ]
  },
  {
   "cell_type": "code",
   "execution_count": 26,
   "metadata": {
    "collapsed": false
   },
   "outputs": [
    {
     "name": "stdout",
     "output_type": "stream",
     "text": [
      "[ -5 -22   8]\n",
      "0\n",
      "0\n"
     ]
    }
   ],
   "source": [
    "u = np.array([-2,3,7])\n",
    "v = np.array([-4,2,3])\n",
    "print(np.cross(u,v))\n",
    "print(u.dot(np.cross(u,v)))\n",
    "print(v.dot(np.cross(u,v)))"
   ]
  },
  {
   "cell_type": "code",
   "execution_count": 27,
   "metadata": {
    "collapsed": false
   },
   "outputs": [
    {
     "name": "stdout",
     "output_type": "stream",
     "text": [
      "[ 4 -8 -8]\n"
     ]
    }
   ],
   "source": [
    "u = np.array([4,1,1])\n",
    "v = np.array([0,-2,2])\n",
    "print(np.cross(u,v))"
   ]
  },
  {
   "cell_type": "code",
   "execution_count": 47,
   "metadata": {
    "collapsed": false
   },
   "outputs": [
    {
     "name": "stdout",
     "output_type": "stream",
     "text": [
      "[b*z - c*y -a*z + c*x a*y - b*x]\n",
      "Matrix([[a, b, c], [x, y, z], [b*z - c*y, -a*z + c*x, a*y - b*x]])\n",
      "a**2*y**2 + a**2*z**2 - 2*a*b*x*y - 2*a*c*x*z + b**2*x**2 + b**2*z**2 - 2*b*c*y*z + c**2*x**2 + c**2*y**2\n",
      "True\n"
     ]
    }
   ],
   "source": [
    "from sympy import *\n",
    "from sympy.matrices import *\n",
    "\n",
    "a,b,c = symbols('a b c')\n",
    "x,y,z = symbols('x y z')\n",
    "u = np.array([a,b,c])\n",
    "v = np.array([x,y,z])\n",
    "uv = np.cross(u,v)\n",
    "M = Matrix([u,v,uv])\n",
    "print(uv)\n",
    "print(M)\n",
    "det_M = M.det()\n",
    "print(det_M)\n",
    "print(det_M == expand((b*z-c*y)**2+(c*x-a*z)**2+(a*y-b*x)**2))"
   ]
  },
  {
   "cell_type": "code",
   "execution_count": 49,
   "metadata": {
    "collapsed": false
   },
   "outputs": [
    {
     "data": {
      "text/plain": [
       "'a^{2} y^{2} + a^{2} z^{2} - 2 a b x y - 2 a c x z + b^{2} x^{2} + b^{2} z^{2} - 2 b c y z + c^{2} x^{2} + c^{2} y^{2}'"
      ]
     },
     "execution_count": 49,
     "metadata": {},
     "output_type": "execute_result"
    }
   ],
   "source": [
    "latex(a**2*y**2 + a**2*z**2 - 2*a*b*x*y - 2*a*c*x*z + b**2*x**2 + b**2*z**2 - 2*b*c*y*z + c**2*x**2 + c**2*y**2)"
   ]
  }
 ],
 "metadata": {
  "kernelspec": {
   "display_name": "Python 3",
   "language": "python",
   "name": "python3"
  },
  "language_info": {
   "codemirror_mode": {
    "name": "ipython",
    "version": 3
   },
   "file_extension": ".py",
   "mimetype": "text/x-python",
   "name": "python",
   "nbconvert_exporter": "python",
   "pygments_lexer": "ipython3",
   "version": "3.4.3"
  }
 },
 "nbformat": 4,
 "nbformat_minor": 0
}
